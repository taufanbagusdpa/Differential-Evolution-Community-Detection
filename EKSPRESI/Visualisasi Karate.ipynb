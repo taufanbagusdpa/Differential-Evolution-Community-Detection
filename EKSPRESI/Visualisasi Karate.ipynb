{
 "cells": [
  {
   "cell_type": "code",
   "execution_count": 28,
   "metadata": {},
   "outputs": [],
   "source": [
    "import community\n",
    "import pandas as pd\n",
    "from pandas import DataFrame as df\n",
    "import networkx as nx\n",
    "import matplotlib.pyplot as plt\n",
    "import numpy as np\n",
    "import random\n",
    "import time\n",
    "import collections\n",
    "\n",
    "# Ignore matplotlib warnings\n",
    "import warnings\n",
    "from scipy.sparse import (spdiags, SparseEfficiencyWarning, csc_matrix,\n",
    "    csr_matrix, isspmatrix, dok_matrix, lil_matrix, bsr_matrix)\n",
    "warnings.simplefilter('ignore',SparseEfficiencyWarning)\n",
    "data = pd.read_csv(\"visualisasi_karate.csv\")"
   ]
  },
  {
   "cell_type": "code",
   "execution_count": 29,
   "metadata": {},
   "outputs": [],
   "source": [
    "def pembangkitan(g):\n",
    "    pop_size = max(g.nodes())\n",
    "    pembangkitan = []\n",
    "\n",
    "    while len(pembangkitan) < pop_size:\n",
    "        a = round(np.random.uniform(low=min(g.nodes()), high=pop_size))\n",
    "        if a not in pembangkitan:\n",
    "            pembangkitan.append(a)\n",
    "    return pembangkitan\n",
    "\n",
    "def merge(lsts):\n",
    "    sets = [set(lst) for lst in lsts if lst]\n",
    "    merged = True\n",
    "    while merged:\n",
    "        merged = False\n",
    "        results = []\n",
    "        while sets:\n",
    "            common, rest = sets[0], sets[1:]\n",
    "            sets = []\n",
    "            for x in rest:\n",
    "                if x.isdisjoint(common):\n",
    "                    sets.append(x)\n",
    "                else:\n",
    "                    merged = True\n",
    "                    common |= x\n",
    "            results.append(common)\n",
    "        sets = results\n",
    "    return sets\n",
    "\n",
    "def comm(G, pembangkitan, node):\n",
    "    mrg = []\n",
    "    for index, i in enumerate(pembangkitan):\n",
    "        temp = []\n",
    "        for j in [ u for u in G.neighbors(i)]:\n",
    "            temp.append(j)\n",
    "        temp.append(i)\n",
    "        mrg.append(set(temp))\n",
    "    mrg = list(set(map(tuple, mrg)))\n",
    "    mrg.sort(key=len, reverse = True)\n",
    "\n",
    "    final = merge(mrg)\n",
    "\n",
    "    for i in range(len(final)):\n",
    "        lc = dict()\n",
    "        for j in final[i]:\n",
    "            lc[j] = (G.degree(j)/(100/50))\n",
    "        final[i] = lc\n",
    "        \n",
    "    for i in range(len(final)):\n",
    "        for k,v in final[i].items():\n",
    "            if node in final[i].keys():\n",
    "                return i\n",
    "            \n",
    "def lc(G, pembangkitan, node):\n",
    "    mrg = []\n",
    "    for index, i in enumerate(pembangkitan):\n",
    "        temp = []\n",
    "        for j in [ u for u in G.neighbors(i)]:\n",
    "            temp.append(j)\n",
    "        temp.append(i)\n",
    "        mrg.append(set(temp))\n",
    "    mrg = list(set(map(tuple, mrg)))\n",
    "    mrg.sort(key=len, reverse = True)\n",
    "\n",
    "    final = merge(mrg)\n",
    "\n",
    "    for i in range(len(final)):\n",
    "        lc = dict()\n",
    "        for j in final[i]:\n",
    "            lc[j] = (G.degree(j)/(100/50))\n",
    "        final[i] = lc\n",
    "        \n",
    "    for i in range(len(final)):\n",
    "        for k,v in final[i].items():\n",
    "            if node in final[i].keys():\n",
    "                return int(sum(final[i].values()))\n",
    "\n",
    "def Q_xi(G, pembangkitan):\n",
    "    tabel = dict()\n",
    "    for index, node in enumerate(pembangkitan):\n",
    "        try:\n",
    "            tabel[index] = [node, G.degree(node), \n",
    "                    G.number_of_edges(), \n",
    "                    lc(G, pembangkitan, node), \n",
    "                    lc(G, pembangkitan, node)*2, \n",
    "                    comm(G, pembangkitan, node),\n",
    "                    (lc(G, pembangkitan, node)/G.number_of_edges())-((lc(G, pembangkitan, node)*2)/(2*G.number_of_edges()))**(2)]\n",
    "        except ZeroDivisionError:\n",
    "            tabel[index] = [node, G.degree(node), \n",
    "                    G.number_of_edges(), \n",
    "                    lc(G, pembangkitan, node), \n",
    "                    lc(G, pembangkitan, node)*2, \n",
    "                    comm(G, pembangkitan, node),\n",
    "                    0]\n",
    "        \n",
    "    return tabel\n",
    "\n",
    "def Qbest(G, pembangkitan):\n",
    "    tabel = Q_xi(G, pembangkitan)\n",
    "    max_com = [0]\n",
    "    for i in range(len(tabel)):\n",
    "        max_com.append((tabel[i])[5])\n",
    "\n",
    "    Q = dict()    \n",
    "    for i in range(max(max_com)+1):\n",
    "        Qi = dict()\n",
    "        for j in range(len(tabel)):\n",
    "            if (tabel[j])[5] == i:\n",
    "                Qi[j] = (tabel[j])[6]\n",
    "        try:\n",
    "            Q[i] = sum(Qi.values())/len(Qi)\n",
    "        except ZeroDivisionError:\n",
    "            Q[i] = 0\n",
    "        \n",
    "    return sum(Q.values())"
   ]
  },
  {
   "cell_type": "code",
   "execution_count": null,
   "metadata": {},
   "outputs": [],
   "source": [
    "g = nx.from_pandas_edgelist(data, source='source', target='target', edge_attr=None)\n",
    "d = dict(g.degree)\n",
    "community = dict()\n",
    "for i in g.nodes():\n",
    "    color = [\"#FF0000\",\"#FFFF00\",\"#008000\",\"#0000FF\",\"#FF00FF\",\"#808000\",\"#00FF00\",\"#00FFFF\",\"#800000\",\"#800080\"]\n",
    "    community[i] = color[comm(g, pembangkitan(g), i)]\n",
    "plt.figure(10,figsize=(15,10))\n",
    "nx.draw_spring(g, with_labels = True, node_size=[v * 300 for v in d.values()], node_color=community.values())\n",
    "plt.savefig('karate.svg')"
   ]
  },
  {
   "cell_type": "code",
   "execution_count": 27,
   "metadata": {},
   "outputs": [
    {
     "name": "stdout",
     "output_type": "stream",
     "text": [
      "2 0\n",
      "12 0\n",
      "17 0\n",
      "10 0\n",
      "1 4\n",
      "27 4\n",
      "3 2\n",
      "24 2\n",
      "15 2\n",
      "29 2\n",
      "34 2\n",
      "11 2\n",
      "4 3\n",
      "21 3\n",
      "23 3\n",
      "9 3\n",
      "5 0\n",
      "19 0\n",
      "6 0\n",
      "20 0\n",
      "7 1\n",
      "14 1\n",
      "30 1\n",
      "18 1\n",
      "8 1\n",
      "33 1\n",
      "26 1\n",
      "25 0\n",
      "13 1\n",
      "22 1\n",
      "31 0\n",
      "16 1\n",
      "28 1\n",
      "32 1\n"
     ]
    }
   ],
   "source": [
    "for i in g.nodes():\n",
    "    print(i, comm(g, pembangkitan(g), i))"
   ]
  },
  {
   "cell_type": "code",
   "execution_count": 15,
   "metadata": {},
   "outputs": [
    {
     "data": {
      "text/plain": [
       "-0.09475673898750805"
      ]
     },
     "execution_count": 15,
     "metadata": {},
     "output_type": "execute_result"
    }
   ],
   "source": [
    "karate = [[2,12,17,10,5,19,6,20,25,31],[7,14,30,18,8,33,26,13,22,16,28,32],[3,24,15,29,34,11],[4,21,23,9],[1,27]]\n",
    "g = nx.from_pandas_edgelist(data, source='source', target='target', edge_attr=None)\n",
    "nx.algorithms.community.quality.modularity(g,karate)"
   ]
  },
  {
   "cell_type": "code",
   "execution_count": 30,
   "metadata": {},
   "outputs": [
    {
     "name": "stdout",
     "output_type": "stream",
     "text": [
      "{0: [16, 1, 46, 19, 38, 1, 0.24243856332703215], 1: [24, 1, 46, 6, 12, 2, 0.11342155009451796], 2: [13, 4, 46, 19, 38, 1, 0.24243856332703215], 3: [26, 5, 46, 19, 38, 1, 0.24243856332703215], 4: [17, 6, 46, 16, 32, 0, 0.22684310018903592], 5: [25, 3, 46, 16, 32, 0, 0.22684310018903592], 6: [27, 1, 46, 1, 2, 4, 0.021266540642722116], 7: [20, 4, 46, 16, 32, 0, 0.22684310018903592], 8: [22, 5, 46, 19, 38, 1, 0.24243856332703215], 9: [28, 2, 46, 19, 38, 1, 0.24243856332703215], 10: [30, 3, 46, 19, 38, 1, 0.24243856332703215], 11: [29, 2, 46, 6, 12, 2, 0.11342155009451796], 12: [23, 2, 46, 4, 8, 3, 0.07939508506616257], 13: [8, 2, 46, 19, 38, 1, 0.24243856332703215], 14: [32, 1, 46, 19, 38, 1, 0.24243856332703215], 15: [19, 4, 46, 16, 32, 0, 0.22684310018903592], 16: [6, 3, 46, 16, 32, 0, 0.22684310018903592], 17: [5, 2, 46, 16, 32, 0, 0.22684310018903592], 18: [4, 3, 46, 4, 8, 3, 0.07939508506616257], 19: [18, 3, 46, 19, 38, 1, 0.24243856332703215], 20: [14, 3, 46, 19, 38, 1, 0.24243856332703215], 21: [31, 3, 46, 16, 32, 0, 0.22684310018903592], 22: [11, 1, 46, 6, 12, 2, 0.11342155009451796], 23: [15, 2, 46, 6, 12, 2, 0.11342155009451796], 24: [1, 1, 46, 1, 2, 4, 0.021266540642722116], 25: [2, 3, 46, 16, 32, 0, 0.22684310018903592], 26: [21, 1, 46, 4, 8, 3, 0.07939508506616257], 27: [3, 5, 46, 6, 12, 2, 0.11342155009451796], 28: [10, 2, 46, 16, 32, 0, 0.22684310018903592], 29: [7, 3, 46, 19, 38, 1, 0.24243856332703215], 30: [33, 6, 46, 19, 38, 1, 0.24243856332703215], 31: [9, 2, 46, 4, 8, 3, 0.07939508506616257], 32: [12, 2, 46, 16, 32, 0, 0.22684310018903592], 33: [34, 1, 46, 6, 12, 2, 0.11342155009451796]}\n"
     ]
    }
   ],
   "source": [
    "g = nx.from_pandas_edgelist(data, source='source', target='target', edge_attr=None)\n",
    "\n",
    "print(Q_xi(g,pembangkitan(g)))"
   ]
  },
  {
   "cell_type": "code",
   "execution_count": 31,
   "metadata": {},
   "outputs": [
    {
     "name": "stdout",
     "output_type": "stream",
     "text": [
      "0.6833648393194707\n"
     ]
    }
   ],
   "source": [
    "print(Qbest(g,pembangkitan(g)))"
   ]
  },
  {
   "cell_type": "code",
   "execution_count": null,
   "metadata": {},
   "outputs": [],
   "source": []
  }
 ],
 "metadata": {
  "kernelspec": {
   "display_name": "Python 3",
   "language": "python",
   "name": "python3"
  },
  "language_info": {
   "codemirror_mode": {
    "name": "ipython",
    "version": 3
   },
   "file_extension": ".py",
   "mimetype": "text/x-python",
   "name": "python",
   "nbconvert_exporter": "python",
   "pygments_lexer": "ipython3",
   "version": "3.7.4"
  }
 },
 "nbformat": 4,
 "nbformat_minor": 2
}
