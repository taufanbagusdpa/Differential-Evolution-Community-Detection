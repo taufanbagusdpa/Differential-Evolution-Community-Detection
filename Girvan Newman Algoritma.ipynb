{
 "cells": [
  {
   "cell_type": "code",
   "execution_count": 2,
   "metadata": {},
   "outputs": [],
   "source": [
    "from networkx.algorithms.community.centrality import girvan_newman\n",
    "import networkx as nx\n",
    "import pandas as pd\n",
    "from itertools import takewhile\n",
    "import time"
   ]
  },
  {
   "cell_type": "code",
   "execution_count": 3,
   "metadata": {},
   "outputs": [
    {
     "data": {
      "text/html": [
       "<div>\n",
       "<style scoped>\n",
       "    .dataframe tbody tr th:only-of-type {\n",
       "        vertical-align: middle;\n",
       "    }\n",
       "\n",
       "    .dataframe tbody tr th {\n",
       "        vertical-align: top;\n",
       "    }\n",
       "\n",
       "    .dataframe thead th {\n",
       "        text-align: right;\n",
       "    }\n",
       "</style>\n",
       "<table border=\"1\" class=\"dataframe\">\n",
       "  <thead>\n",
       "    <tr style=\"text-align: right;\">\n",
       "      <th></th>\n",
       "      <th>source</th>\n",
       "      <th>target</th>\n",
       "    </tr>\n",
       "  </thead>\n",
       "  <tbody>\n",
       "    <tr>\n",
       "      <td>0</td>\n",
       "      <td>2</td>\n",
       "      <td>1</td>\n",
       "    </tr>\n",
       "    <tr>\n",
       "      <td>1</td>\n",
       "      <td>3</td>\n",
       "      <td>1</td>\n",
       "    </tr>\n",
       "    <tr>\n",
       "      <td>2</td>\n",
       "      <td>3</td>\n",
       "      <td>2</td>\n",
       "    </tr>\n",
       "    <tr>\n",
       "      <td>3</td>\n",
       "      <td>4</td>\n",
       "      <td>1</td>\n",
       "    </tr>\n",
       "    <tr>\n",
       "      <td>4</td>\n",
       "      <td>4</td>\n",
       "      <td>2</td>\n",
       "    </tr>\n",
       "  </tbody>\n",
       "</table>\n",
       "</div>"
      ],
      "text/plain": [
       "   source  target\n",
       "0       2       1\n",
       "1       3       1\n",
       "2       3       2\n",
       "3       4       1\n",
       "4       4       2"
      ]
     },
     "execution_count": 3,
     "metadata": {},
     "output_type": "execute_result"
    }
   ],
   "source": [
    "data = pd.read_csv(\"karate.csv\")\n",
    "data.head()"
   ]
  },
  {
   "cell_type": "code",
   "execution_count": 4,
   "metadata": {},
   "outputs": [
    {
     "name": "stdout",
     "output_type": "stream",
     "text": [
      "Name: \n",
      "Type: Graph\n",
      "Number of nodes: 34\n",
      "Number of edges: 78\n",
      "Average degree:   4.5882\n"
     ]
    }
   ],
   "source": [
    "g = nx.from_pandas_edgelist(data, source='source', target='target', edge_attr=None)\n",
    "print(nx.info(g))"
   ]
  },
  {
   "cell_type": "code",
   "execution_count": 8,
   "metadata": {},
   "outputs": [
    {
     "data": {
      "text/plain": [
       "0.4012984878369489"
      ]
     },
     "execution_count": 8,
     "metadata": {},
     "output_type": "execute_result"
    }
   ],
   "source": [
    "def comd_GN(G,k):\n",
    "    best = 0\n",
    "    best_coms = None\n",
    "    comp = girvan_newman(G)   \n",
    "    limited = takewhile(lambda c: len(c) <= k, comp)\n",
    "    for communities in limited:\n",
    "        com  = tuple(sorted(c) for c in communities) \n",
    "        mod = nx.algorithms.community.quality.modularity(G,com)\n",
    "        if mod>best:\n",
    "            best = mod\n",
    "            best_coms = com\n",
    "    return best\n",
    "comd_GN(g,80)\n",
    "\n",
    "# def struktur(G,k):\n",
    "#     best = 0\n",
    "#     best_coms = None\n",
    "#     comp = girvan_newman(G)   \n",
    "#     limited = takewhile(lambda c: len(c) <= k, comp)\n",
    "#     for communities in limited:\n",
    "#         com  = tuple(sorted(c) for c in communities) \n",
    "#         mod = nx.algorithms.community.quality.modularity(G,com)\n",
    "#         print(len(com), nx.algorithms.community.quality.modularity(G,com))\n",
    "#         if mod > best:\n",
    "#             best = mod\n",
    "#             best_coms = com\n",
    "#     return best\n",
    "# start_time = time.time()\n",
    "# waktu = (time.time() - start_time)\n",
    "# print(\"%s seconds\" % waktu)"
   ]
  }
 ],
 "metadata": {
  "kernelspec": {
   "display_name": "Python 3",
   "language": "python",
   "name": "python3"
  },
  "language_info": {
   "codemirror_mode": {
    "name": "ipython",
    "version": 3
   },
   "file_extension": ".py",
   "mimetype": "text/x-python",
   "name": "python",
   "nbconvert_exporter": "python",
   "pygments_lexer": "ipython3",
   "version": "3.7.4"
  }
 },
 "nbformat": 4,
 "nbformat_minor": 2
}
